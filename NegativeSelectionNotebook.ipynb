{
 "cells": [
  {
   "cell_type": "code",
   "execution_count": 1,
   "metadata": {},
   "outputs": [],
   "source": [
    "import negativeSelect as ns\n",
    "import time\n",
    "import matplotlib.pyplot as plt\n",
    "import numpy as np\n",
    "import pandas as pd\n",
    "import random\n",
    "%matplotlib inline"
   ]
  },
  {
   "cell_type": "code",
   "execution_count": null,
   "metadata": {},
   "outputs": [],
   "source": [
    "### load english train and test data\n",
    "englishTrain, englishTrainAlphabet = \\\n",
    "ns.loadTextData(\"../Data/english.test\")\n",
    "\n",
    "englishTest, englishTestAlphabet = \\\n",
    "ns.loadTextData(\"../Data/english.train\")"
   ]
  },
  {
   "cell_type": "code",
   "execution_count": null,
   "metadata": {},
   "outputs": [],
   "source": [
    "### do some time testing for r-chunk\n",
    "nRange = np.arange(1,1000,100)\n",
    "sampleSizeList = [1.0, 0.75, 0.5, 0.25, 0.1]\n",
    "plt.figure()\n",
    "for s in sampleSizeList:\n",
    "    x = []\n",
    "    timeList = []\n",
    "    for n in nRange:\n",
    "\n",
    "        x.append(n)\n",
    "\n",
    "        startTime = time.time()\n",
    "\n",
    "        detectors = ns.trainRChunk(englishTrain, \\\n",
    "                   englishTrainAlphabet, \\\n",
    "                   n, \\\n",
    "                   int(s*len(englishTrain)),\n",
    "                   4,\n",
    "                   len(englishTrain[0]))\n",
    "\n",
    "        endTime = time.time()\n",
    "        timeList.append(endTime - startTime)\n",
    "    plt.scatter(x, timeList, label = str(s))\n",
    "plt.title(\"Naive r-chunk training time\")\n",
    "plt.xlabel(\"Number of Detectors Trained\")\n",
    "plt.ylabel(\"Walltime(seconds)\")\n",
    "plt.legend(title=\"Fraction of Training Strings Tested\")\n",
    "plt.savefig(\"../Plots/rchunkTrainTime.eps\")"
   ]
  },
  {
   "cell_type": "code",
   "execution_count": null,
   "metadata": {},
   "outputs": [],
   "source": [
    "### do some time testing for r-contiguous\n",
    "nRange = np.arange(1,1000,100)\n",
    "sampleSizeList = [1.0, 0.75, 0.5, 0.25, 0.1]\n",
    "plt.figure()\n",
    "for s in sampleSizeList:\n",
    "    x = []\n",
    "    timeList = []\n",
    "    for n in nRange:\n",
    "\n",
    "        x.append(n)\n",
    "\n",
    "        startTime = time.time()\n",
    "\n",
    "        detectors = ns.trainRContig(englishTrain, \\\n",
    "                   englishTrainAlphabet, \\\n",
    "                   n, \\\n",
    "                   int(s*len(englishTrain)),\\\n",
    "                   4,\\\n",
    "                    len(englishTrain[0]))\n",
    "\n",
    "        endTime = time.time()\n",
    "        timeList.append(endTime - startTime)\n",
    "    plt.scatter(x, timeList, label = str(s))\n",
    "plt.title(\"Naive r-contiguous training time\")\n",
    "plt.xlabel(\"Number of Detectors Trained\")\n",
    "plt.ylabel(\"Walltime(seconds)\")\n",
    "plt.legend(title=\"test\")\n",
    "plt.savefig(\"../Plots/rcontigTrainTime.eps\")"
   ]
  },
  {
   "cell_type": "code",
   "execution_count": null,
   "metadata": {},
   "outputs": [],
   "source": [
    "r = 7\n",
    "hilTest, hilAlphabet = ns.loadTextData(\"../Data/hiligaynon.txt\")\n",
    "midTest, midAlphabet = ns.loadTextData(\"../Data/middle-english.txt\")\n",
    "dietschTest, dietshAlphabet = ns.loadTextData(\"../Data/plautdietsch.txt\")\n",
    "xhosaTest, xhosaAlphabet = ns.loadTextData(\"../Data/xhosa.txt\")\n",
    "globalAlphabet = []\n",
    "globalAlphabet.extend(hilAlphabet)\n",
    "globalAlphabet.extend(midAlphabet)\n",
    "globalAlphabet.extend(dietshAlphabet)\n",
    "globalAlphabet.extend(xhosaAlphabet)\n",
    "globalAlphabetSet = set(globalAlphabet)\n",
    "globalAlphabet = list(globalAlphabetSet)"
   ]
  },
  {
   "cell_type": "code",
   "execution_count": null,
   "metadata": {},
   "outputs": [],
   "source": [
    "languageNames = [\"Hiligaynon\", \"Middle-English\", \"Plautdietsch\", 'Xhosa']\n",
    "languageData = [hilTest, midTest, dietschTest, xhosaTest]\n",
    "numTrueAnomalies = [0, 0, 0, 0]\n",
    "englishSet = set(englishTrain)\n",
    "\n",
    "n = 10000\n",
    "r = 4\n",
    "\n",
    "result = \"Name\\t\" +\\\n",
    "            \"repSize\\t\" +\\\n",
    "            \"time\\t\" +\\\n",
    "            \"count\\t\" +\\\n",
    "            \"truePerc\"\n",
    "result = result.expandtabs(20)\n",
    "print(result)\n",
    "\n",
    "startTime = time.time()\n",
    "detectors = ns.trainRContig(englishTrain, \\\n",
    "               globalAlphabet, \\\n",
    "               n, \\\n",
    "               int(len(englishTrain)),\\\n",
    "               r,\\\n",
    "               10)\n",
    "endTime = time.time()\n",
    "deltaTime = endTime-startTime\n",
    "\n",
    "for i in range(len(languageData)):\n",
    "    \n",
    "    ### train a reprtoire\n",
    "    ### test each string in current test set\n",
    "    anomalies = 0\n",
    "    for testString in languageData[i]:\n",
    "        if(testString not in englishSet):\n",
    "            numTrueAnomalies[i] += 1\n",
    "            \n",
    "        for d in detectors:\n",
    "            if(d.testDetector(testString)):\n",
    "                anomalies+=1\n",
    "                break\n",
    "    result = \"\" + languageNames[i] + \"\\t\" + \\\n",
    "                str(n) + \"\\t\" + str(deltaTime) + \"\\t\" + \\\n",
    "                str(anomalies) + \"/\" + str(numTrueAnomalies[i]) + \"\\t\" + str(float(anomalies)/float(numTrueAnomalies[i]))\n",
    "    result = result.expandtabs(20)\n",
    "    print(result)"
   ]
  },
  {
   "cell_type": "code",
   "execution_count": 112,
   "metadata": {},
   "outputs": [],
   "source": [
    "#### get results from knn:\n",
    "from sklearn.neighbors import KNeighborsClassifier"
   ]
  },
  {
   "cell_type": "code",
   "execution_count": 113,
   "metadata": {},
   "outputs": [],
   "source": [
    "def getTransformedData(data, label):\n",
    "    tdata = np.zeros((len(data), len(data[0])))\n",
    "    tlabels = np.zeros(len(data))\n",
    "    i = 0\n",
    "    for s in data:\n",
    "        if(len(s) == len(data[0])):\n",
    "            nv = []\n",
    "            for c in s:\n",
    "                if(c == \"_\"):\n",
    "                    nv.append(123-97)\n",
    "                else:\n",
    "                    nv.append(ord(c)-97)\n",
    "            tdata[i] = np.array(nv)\n",
    "            tlabels[i] = (label)\n",
    "        i+=1\n",
    "    return tdata, tlabels"
   ]
  },
  {
   "cell_type": "code",
   "execution_count": null,
   "metadata": {},
   "outputs": [],
   "source": [
    "knn = KNeighborsClassifier(n_neighbors=1)\n",
    "\n",
    "transformedEng, engLabels = getTransformedData(englishTrain, 0)\n",
    "\n",
    "trainSize = 50\n",
    "\n",
    "for i in range(len(languageData)):\n",
    "    tdata, tlabels = getTransformedData(languageData[i], 1)\n",
    "    xtrain = transformedEng.copy()\n",
    "    xtrain = np.append(xtrain, tdata[:trainSize], axis=0)\n",
    "    ytrain = engLabels.copy()\n",
    "    ytrain = np.append(ytrain, tlabels[:trainSize], axis=0)\n",
    "    \n",
    "    knn.fit(xtrain, ytrain)\n",
    "    y_pred = knn.predict(tdata[trainSize:])\n",
    "    anomalies = 0\n",
    "    for y in y_pred:\n",
    "        if(y==1):\n",
    "            anomalies+=1\n",
    "    \n",
    "    print(languageNames[i] + \"\\t\" + str(anomalies) + \"\\t\" + str(float(anomalies)/float(numTrueAnomalies[i])))"
   ]
  },
  {
   "cell_type": "code",
   "execution_count": 2,
   "metadata": {},
   "outputs": [],
   "source": [
    "def loadRIB(filename):\n",
    "    paths = []\n",
    "    with open(filename) as fp:\n",
    "        line = fp.readline()\n",
    "        while(line):\n",
    "            s = line.split(\"|\")\n",
    "            if(s[2] == \"E\"):\n",
    "                break\n",
    "            if(len(s) >= 10):\n",
    "                path = []\n",
    "                aspath = s[9]\n",
    "                if(not \"{\" in aspath and not \"}\" in aspath):\n",
    "                    asStrings = aspath.split(\" \")\n",
    "                    for a in asStrings:\n",
    "                        path.append(int(a))\n",
    "                paths.append(path)\n",
    "            line = fp.readline()\n",
    "    return paths"
   ]
  },
  {
   "cell_type": "code",
   "execution_count": 74,
   "metadata": {},
   "outputs": [],
   "source": [
    "dataPaths = loadRIB(\"../Data/jan.rib\")\n",
    "numPaths = 1000"
   ]
  },
  {
   "cell_type": "code",
   "execution_count": 75,
   "metadata": {},
   "outputs": [],
   "source": [
    "dataPaths = dataPaths[0:numPaths]"
   ]
  },
  {
   "cell_type": "code",
   "execution_count": 76,
   "metadata": {},
   "outputs": [],
   "source": [
    "uniqueASes = set()\n",
    "for p in dataPaths:\n",
    "    for a in p:\n",
    "        uniqueASes.add(a)"
   ]
  },
  {
   "cell_type": "code",
   "execution_count": 77,
   "metadata": {},
   "outputs": [
    {
     "data": {
      "text/plain": [
       "99"
      ]
     },
     "execution_count": 77,
     "metadata": {},
     "output_type": "execute_result"
    }
   ],
   "source": [
    "len(uniqueASes)"
   ]
  },
  {
   "cell_type": "code",
   "execution_count": 78,
   "metadata": {},
   "outputs": [],
   "source": [
    "asChars = {}\n",
    "i = 0\n",
    "for a in uniqueASes:\n",
    "    asChars[a] = chr(i)\n",
    "    i += 1"
   ]
  },
  {
   "cell_type": "code",
   "execution_count": 79,
   "metadata": {},
   "outputs": [],
   "source": [
    "asnPathDataSet = []\n",
    "n = 10\n",
    "i = 0;\n",
    "finished = False\n",
    "s = \"\"\n",
    "for p in dataPaths:\n",
    "    for a in p:\n",
    "        c = asChars[a]\n",
    "        s += c\n",
    "        if(len(s) == n):\n",
    "            asnPathDataSet.append(s)\n",
    "            s = \"\""
   ]
  },
  {
   "cell_type": "code",
   "execution_count": 88,
   "metadata": {},
   "outputs": [],
   "source": [
    "### generate fake paths\n",
    "fakePaths = []\n",
    "n = 10\n",
    "num = 1000\n",
    "for i in range(num):\n",
    "    s = \"\"\n",
    "    for j in range(n):\n",
    "        s += chr(random.randint(0,len(uniqueASes)+1))\n",
    "    fakePaths.append(s)"
   ]
  },
  {
   "cell_type": "code",
   "execution_count": 81,
   "metadata": {},
   "outputs": [],
   "source": [
    "### make the alphabet\n",
    "alphabet = []\n",
    "for a in uniqueASes:\n",
    "    alphabet.append(asChars[a])"
   ]
  },
  {
   "cell_type": "code",
   "execution_count": 82,
   "metadata": {},
   "outputs": [],
   "source": [
    "random.shuffle(asnPathDataSet)\n",
    "trainingData = asnPathDataSet"
   ]
  },
  {
   "cell_type": "code",
   "execution_count": 110,
   "metadata": {},
   "outputs": [
    {
     "name": "stdout",
     "output_type": "stream",
     "text": [
      "ASN training time: 2.5548009872436523\n"
     ]
    }
   ],
   "source": [
    "n = 1000\n",
    "r = 2\n",
    "startTime = time.time()\n",
    "detectors = ns.trainRContig(trainingData, \\\n",
    "               alphabet, \\\n",
    "               n, \\\n",
    "               len(trainingData),\\\n",
    "               r,\\\n",
    "               10)\n",
    "endTime = time.time()\n",
    "deltaTime = endTime-startTime\n",
    "print(\"ASN training time: \" + str(deltaTime))"
   ]
  },
  {
   "cell_type": "code",
   "execution_count": 111,
   "metadata": {},
   "outputs": [
    {
     "name": "stdout",
     "output_type": "stream",
     "text": [
      "1000\n"
     ]
    }
   ],
   "source": [
    "anomalies = 0\n",
    "for fp in fakePaths:\n",
    "    for d in detectors:\n",
    "        if(d.testDetector(fp)):\n",
    "            anomalies+=1\n",
    "            break\n",
    "print(anomalies)"
   ]
  },
  {
   "cell_type": "code",
   "execution_count": 93,
   "metadata": {},
   "outputs": [
    {
     "name": "stdout",
     "output_type": "stream",
     "text": [
      "ASN training time: 2.237046718597412\n",
      "ASN training time: 1.5824613571166992\n",
      "ASN training time: 1.3992931842803955\n",
      "ASN training time: 1.291795015335083\n",
      "ASN training time: 1.4270234107971191\n",
      "ASN training time: 1.159064769744873\n",
      "ASN training time: 1.2007272243499756\n",
      "ASN training time: 0.9719090461730957\n",
      "ASN training time: 0.7815990447998047\n"
     ]
    }
   ],
   "source": [
    "rRange = [2,3,4,5,6,7,8,9,10]\n",
    "y = []\n",
    "for r in rRange:\n",
    "    n = 1000\n",
    "    startTime = time.time()\n",
    "    detectors = ns.trainRContig(trainingData, \\\n",
    "                   alphabet, \\\n",
    "                   n, \\\n",
    "                   len(trainingData),\\\n",
    "                   r,\\\n",
    "                   10)\n",
    "    endTime = time.time()\n",
    "    deltaTime = endTime-startTime\n",
    "    print(\"ASN training time: \" + str(deltaTime))\n",
    "    \n",
    "    anomalies = 0\n",
    "    for fp in fakePaths:\n",
    "        for d in detectors:\n",
    "            if(d.testDetector(fp)):\n",
    "                anomalies+=1\n",
    "                break\n",
    "    y.append(anomalies)"
   ]
  },
  {
   "cell_type": "code",
   "execution_count": 98,
   "metadata": {},
   "outputs": [
    {
     "data": {
      "image/png": "[encoded data removed]",
      "text/plain": [
       "<Figure size 432x288 with 1 Axes>"
      ]
     },
     "metadata": {
      "needs_background": "light"
     },
     "output_type": "display_data"
    }
   ],
   "source": [
    "plt.figure()\n",
    "plt.scatter(rRange, y)\n",
    "plt.title(\"Best r for BGP Negative Selection\")\n",
    "plt.xlabel(\"r, in r-contiguous matching\")\n",
    "plt.ylabel(\"anomalies found\")\n",
    "plt.savefig(\"../Plots/contigBGP.eps\")"
   ]
  },
  {
   "cell_type": "code",
   "execution_count": 131,
   "metadata": {},
   "outputs": [
    {
     "name": "stdout",
     "output_type": "stream",
     "text": [
      "1 & 176 & 0.176 \\\\\n",
      "2 & 48 & 0.048 \\\\\n",
      "5 & 34 & 0.034 \\\\\n",
      "10 & 2 & 0.002 \\\\\n",
      "15 & 1 & 0.001 \\\\\n"
     ]
    }
   ],
   "source": [
    "for k in [1,2,5,10,15]:\n",
    "    knn = KNeighborsClassifier(n_neighbors=k)\n",
    "\n",
    "    transformedEng, engLabels = getTransformedData(trainingData, 0)\n",
    "\n",
    "    trainSize = 50\n",
    "    languageData = [fakePaths]\n",
    "    for i in range(len(languageData)):\n",
    "        tdata, tlabels = getTransformedData(languageData[i], 1)\n",
    "        xtrain = transformedEng.copy()\n",
    "        xtrain = np.append(xtrain, tdata[:trainSize], axis=0)\n",
    "        ytrain = engLabels.copy()\n",
    "        ytrain = np.append(ytrain, tlabels[:trainSize], axis=0)\n",
    "\n",
    "        knn.fit(xtrain, ytrain)\n",
    "        y_pred = knn.predict(tdata[trainSize:])\n",
    "        anomalies = 0\n",
    "        for y in y_pred:\n",
    "            if(y==1):\n",
    "                anomalies+=1\n",
    "\n",
    "        print(str(k) + \" & \" + str(anomalies) + \" & \" + str(float(anomalies)/float(1000)) + \" \\\\\\\\\")"
   ]
  },
  {
   "cell_type": "code",
   "execution_count": null,
   "metadata": {},
   "outputs": [],
   "source": []
  }
 ],
 "metadata": {
  "kernelspec": {
   "display_name": "Python 3",
   "language": "python",
   "name": "python3"
  },
  "language_info": {
   "codemirror_mode": {
    "name": "ipython",
    "version": 3
   },
   "file_extension": ".py",
   "mimetype": "text/x-python",
   "name": "python",
   "nbconvert_exporter": "python",
   "pygments_lexer": "ipython3",
   "version": "3.6.7"
  }
 },
 "nbformat": 4,
 "nbformat_minor": 2
}
